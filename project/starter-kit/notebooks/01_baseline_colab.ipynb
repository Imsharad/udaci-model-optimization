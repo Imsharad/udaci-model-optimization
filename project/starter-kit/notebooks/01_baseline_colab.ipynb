{
  "cells": [
    {
      "cell_type": "markdown",
      "metadata": {
        "id": "Goco7jjLJ5mx"
      },
      "source": [
        "# UdaciSense: Optimized Object Recognition - Google Colab Version\n",
        "\n",
        "## Notebook 1: Baseline Performance\n",
        "\n",
        "In this notebook, you'll establish the baseline performance of the computer vision model. This will serve as the reference point for your optimization efforts.\n",
        "\n",
        "Remember, the CTO has set specific requirements:\n",
        "- The optimized model should be **30% smaller** than the baseline\n",
        "- The optimized model should **reduce inference time by 40%**\n",
        "- The optimized model should **maintain accuracy within 5%** of the baseline"
      ]
    },
    {
      "cell_type": "markdown",
      "metadata": {
        "id": "zBgrMwx9J5my"
      },
      "source": [
        "### Step 0: Colab Setup (Clone Repository and Install Dependencies)"
      ]
    },
    {
      "cell_type": "code",
      "execution_count": 3,
      "metadata": {
        "id": "Z55kxhlrJ5my",
        "outputId": "4bf70f77-22ae-4f12-e1ed-cfab0e1cadd8",
        "colab": {
          "base_uri": "https://localhost:8080/"
        }
      },
      "outputs": [
        {
          "output_type": "stream",
          "name": "stdout",
          "text": [
            "Cloning into 'udaci-model-optimization'...\n",
            "remote: Enumerating objects: 6090, done.\u001b[K\n",
            "remote: Counting objects: 100% (6090/6090), done.\u001b[K\n",
            "remote: Compressing objects: 100% (6078/6078), done.\u001b[K\n",
            "remote: Total 6090 (delta 12), reused 6086 (delta 8), pack-reused 0 (from 0)\u001b[K\n",
            "Receiving objects: 100% (6090/6090), 40.06 MiB | 26.03 MiB/s, done.\n",
            "Resolving deltas: 100% (12/12), done.\n",
            "Updating files: 100% (6050/6050), done.\n",
            "Filtering content: 100% (2/2), 309.23 MiB | 58.19 MiB/s, done.\n",
            "/content/udaci-model-optimization/project/starter-kit/udaci-model-optimization/project/starter-kit/udaci-model-optimization/project/starter-kit\n"
          ]
        }
      ],
      "source": [
        "# Clone the repository to get all files and dependencies\n",
        "!git clone https://github.com/Imsharad/udaci-model-optimization.git\n"
      ]
    },
    {
      "cell_type": "code",
      "source": [
        "\n",
        "%cd udaci-model-optimization/project/starter-kit/"
      ],
      "metadata": {
        "id": "G0L_sUj9Rshd",
        "outputId": "66f474e6-3d16-43fe-a3b4-7fad045bcf97",
        "colab": {
          "base_uri": "https://localhost:8080/"
        }
      },
      "execution_count": 5,
      "outputs": [
        {
          "output_type": "stream",
          "name": "stdout",
          "text": [
            "/content/udaci-model-optimization/project/starter-kit\n"
          ]
        }
      ]
    },
    {
      "cell_type": "code",
      "execution_count": 6,
      "metadata": {
        "id": "2-ovjNz3J5mz",
        "outputId": "8201f830-9e80-4eb0-e11b-e82eb45cd88f",
        "colab": {
          "base_uri": "https://localhost:8080/"
        }
      },
      "outputs": [
        {
          "output_type": "stream",
          "name": "stdout",
          "text": [
            "/bin/bash: line 1: shn!source: command not found\n",
            "curl: (23) Failure writing output to destination\n",
            "\u001b[2mUsing Python 3.11.13 environment at: /usr\u001b[0m\n",
            "\u001b[2mAudited \u001b[1m3 packages\u001b[0m \u001b[2min 102ms\u001b[0m\u001b[0m\n"
          ]
        }
      ],
      "source": [
        "# Install UV for faster package management\\n\n",
        "!curl -LsSf https://astral.sh/uv/install.sh | sh\\n!source $HOME/.cargo/env\n",
        "# Install PyTorch with CUDA support using UV (much faster)\\n\n",
        "!uv pip install torch torchvision torchaudio --index-url https://download.pytorch.org/whl/cu118 --system"
      ]
    },
    {
      "cell_type": "code",
      "execution_count": 7,
      "metadata": {
        "id": "dJ83PX4WJ5mz",
        "outputId": "107ae83b-0409-4e84-ec3a-27f51e6e5e63",
        "colab": {
          "base_uri": "https://localhost:8080/"
        }
      },
      "outputs": [
        {
          "output_type": "stream",
          "name": "stdout",
          "text": [
            "\u001b[2mUsing Python 3.11.13 environment at: /usr\u001b[0m\n",
            "\u001b[2mAudited \u001b[1m9 packages\u001b[0m \u001b[2min 75ms\u001b[0m\u001b[0m\n"
          ]
        }
      ],
      "source": [
        "# Install remaining dependencies with UV (faster than pip)\\n\n",
        "!uv pip install matplotlib seaborn pandas scikit-learn pillow tqdm thop plotly tensorboard --system"
      ]
    },
    {
      "cell_type": "markdown",
      "metadata": {
        "id": "iwc6qY0SJ5mz"
      },
      "source": [
        "### Step 1. Set up the environment"
      ]
    },
    {
      "cell_type": "code",
      "execution_count": 8,
      "metadata": {
        "id": "Q26KxS4_J5mz",
        "outputId": "c2b1ecdc-054c-4012-dfb1-545a97340e24",
        "colab": {
          "base_uri": "https://localhost:8080/"
        }
      },
      "outputs": [
        {
          "output_type": "stream",
          "name": "stdout",
          "text": [
            "The autoreload extension is already loaded. To reload it, use:\n",
            "  %reload_ext autoreload\n"
          ]
        }
      ],
      "source": [
        "%load_ext autoreload\n",
        "%autoreload 2"
      ]
    },
    {
      "cell_type": "code",
      "execution_count": 9,
      "metadata": {
        "id": "O3qyePEgJ5m0"
      },
      "outputs": [],
      "source": [
        "# Import libraries\n",
        "import json\n",
        "import matplotlib.pyplot as plt\n",
        "import numpy as np\n",
        "import os\n",
        "import random\n",
        "import time\n",
        "import torch\n",
        "import torch.nn as nn\n",
        "import torch.optim as optim\n",
        "import torchvision\n",
        "import torchvision.transforms as transforms\n",
        "from torch.utils.data import Dataset, DataLoader, Subset\n",
        "\n",
        "# Import custom modules\n",
        "from utils import MAX_ALLOWED_ACCURACY_DROP, TARGET_INFERENCE_SPEEDUP, TARGET_MODEL_COMPRESSION\n",
        "from utils.data_loader import get_household_loaders, get_input_size, print_dataloader_stats, visualize_batch\n",
        "from utils.model import MobileNetV3_Household, load_model, print_model_summary, train_model\n",
        "from utils.evaluation import calculate_confusion_matrix, evaluate_model_metrics\n",
        "from utils.visualization import plot_confusion_matrix, plot_training_history, plot_weight_distribution"
      ]
    },
    {
      "cell_type": "code",
      "execution_count": 10,
      "metadata": {
        "id": "vVvf3Mr7J5m0",
        "outputId": "08f51aa8-6982-47e7-867d-4630b283eee5",
        "colab": {
          "base_uri": "https://localhost:8080/"
        }
      },
      "outputs": [
        {
          "output_type": "stream",
          "name": "stdout",
          "text": [
            "Devices available: ['cpu', 'cuda:0 (Tesla T4)']\n",
            "Using device: cuda\n"
          ]
        }
      ],
      "source": [
        "# Check if CUDA is available\n",
        "devices = [\"cpu\"]\n",
        "if torch.cuda.is_available():\n",
        "    num_devices = torch.cuda.device_count()\n",
        "    devices.extend([f\"cuda:{i} ({torch.cuda.get_device_name(i)})\" for i in range(num_devices)])\n",
        "print(f\"Devices available: {devices}\")\n",
        "\n",
        "# Set device to cuda, if available\n",
        "device = torch.device('cuda' if torch.cuda.is_available() else 'cpu')\n",
        "print(f\"Using device: {device}\")"
      ]
    },
    {
      "cell_type": "code",
      "execution_count": 11,
      "metadata": {
        "id": "w41H_-GyJ5m0",
        "outputId": "2a01be71-bf1c-4e01-acb9-18e34f3cf0a7",
        "colab": {
          "base_uri": "https://localhost:8080/"
        }
      },
      "outputs": [
        {
          "output_type": "execute_result",
          "data": {
            "text/plain": [
              "<torch._C.Generator at 0x78c7e5c8d0b0>"
            ]
          },
          "metadata": {},
          "execution_count": 11
        }
      ],
      "source": [
        "# Set random seed for reproducibility\n",
        "def set_deterministic_mode(seed):\n",
        "    # Basic seed setting\n",
        "    random.seed(seed)\n",
        "    np.random.seed(seed)\n",
        "    torch.manual_seed(seed)\n",
        "    torch.cuda.manual_seed_all(seed)\n",
        "\n",
        "    # Make cudnn deterministic\n",
        "    torch.backends.cudnn.deterministic = True\n",
        "    torch.backends.cudnn.benchmark = False\n",
        "\n",
        "    # For some PyTorch operations\n",
        "    os.environ[\"PYTHONHASHSEED\"] = str(seed)\n",
        "\n",
        "    # For DataLoader workers\n",
        "    def seed_worker(worker_id):\n",
        "        worker_seed = seed + worker_id\n",
        "        np.random.seed(worker_seed)\n",
        "        random.seed(worker_seed)\n",
        "\n",
        "    return seed_worker\n",
        "\n",
        "set_deterministic_mode(42)\n",
        "g = torch.Generator()\n",
        "g.manual_seed(42)"
      ]
    },
    {
      "cell_type": "code",
      "execution_count": 12,
      "metadata": {
        "id": "Khg6dT06J5m1"
      },
      "outputs": [],
      "source": [
        "# Create directories\n",
        "model_type = \"baseline_mobilenet\"\n",
        "models_dir = f\"../models/{model_type}\"\n",
        "models_ckp_dir = f\"{models_dir}/checkpoints\"\n",
        "results_dir = f\"../results/{model_type}\"\n",
        "\n",
        "os.makedirs(models_ckp_dir, exist_ok=True)\n",
        "os.makedirs(results_dir, exist_ok=True)"
      ]
    },
    {
      "cell_type": "markdown",
      "metadata": {
        "id": "ngtpNg8dJ5m1"
      },
      "source": [
        "### Step 2. Load the dataset"
      ]
    },
    {
      "cell_type": "code",
      "execution_count": 13,
      "metadata": {
        "id": "sOtDDatUJ5m1",
        "outputId": "2b97b381-8bde-48d6-e97e-cb23d9c51a49",
        "colab": {
          "base_uri": "https://localhost:8080/",
          "height": 1000
        }
      },
      "outputs": [
        {
          "output_type": "stream",
          "name": "stdout",
          "text": [
            "Extracting household classes from CIFAR100 for train set...\n",
            "Extracting household classes from CIFAR100 for test set...\n",
            "Datasets have these classes: \n",
            "  0: clock\n",
            "  1: keyboard\n",
            "  2: lamp\n",
            "  3: telephone\n",
            "  4: television\n",
            "  5: bed\n",
            "  6: chair\n",
            "  7: couch\n",
            "  8: table\n",
            "  9: wardrobe\n",
            "\n",
            "Information on train set\n",
            "Statistics for train\n",
            " Size: 5000\n",
            " Samples per class:\n",
            "  clock: 500\n",
            "  keyboard: 500\n",
            "  lamp: 500\n",
            "  telephone: 500\n",
            "  television: 500\n",
            "  bed: 500\n",
            "  chair: 500\n",
            "  couch: 500\n",
            "  table: 500\n",
            "  wardrobe: 500\n",
            "Examples of images from the train set\n"
          ]
        },
        {
          "output_type": "display_data",
          "data": {
            "text/plain": [
              "<Figure size 1200x300 with 10 Axes>"
            ],
            "image/png": "[encoded data removed]"
          },
          "metadata": {}
        },
        {
          "output_type": "stream",
          "name": "stdout",
          "text": [
            "\n",
            "Information on test set\n",
            "Statistics for test\n",
            " Size: 1000\n",
            " Samples per class:\n",
            "  clock: 100\n",
            "  keyboard: 100\n",
            "  lamp: 100\n",
            "  telephone: 100\n",
            "  television: 100\n",
            "  bed: 100\n",
            "  chair: 100\n",
            "  couch: 100\n",
            "  table: 100\n",
            "  wardrobe: 100\n",
            "Examples of images from the test set\n"
          ]
        },
        {
          "output_type": "display_data",
          "data": {
            "text/plain": [
              "<Figure size 1200x300 with 10 Axes>"
            ],
            "image/png": "[encoded data removed]"
          },
          "metadata": {}
        }
      ],
      "source": [
        "# Load household objects dataset\n",
        "train_loader, test_loader = get_household_loaders(\n",
        "    image_size=\"CIFAR\", batch_size=128, num_workers=2,\n",
        ")\n",
        "\n",
        "# Get class names\n",
        "class_names = train_loader.dataset.classes\n",
        "print(f\"Datasets have these classes: \")\n",
        "for i in range(len(class_names)):\n",
        "    print(f\"  {i}: {class_names[i]}\")\n",
        "\n",
        "# Visualize some examples\n",
        "for dataset_type, data_loader in [('train', train_loader), ('test', test_loader)]:\n",
        "    print(f\"\\nInformation on {dataset_type} set\")\n",
        "    print_dataloader_stats(data_loader, dataset_type)\n",
        "    print(f\"Examples of images from the {dataset_type} set\")\n",
        "    visualize_batch(data_loader, num_images=10)"
      ]
    },
    {
      "cell_type": "markdown",
      "metadata": {
        "id": "RdWaQ9H4J5m1"
      },
      "source": [
        "### Step 3. Train the baseline model"
      ]
    },
    {
      "cell_type": "code",
      "execution_count": 14,
      "metadata": {
        "id": "K7kTxkUJJ5m1",
        "outputId": "ca21bdd4-b293-44d6-f1d8-3220749832dd",
        "colab": {
          "base_uri": "https://localhost:8080/"
        }
      },
      "outputs": [
        {
          "output_type": "stream",
          "name": "stdout",
          "text": [
            "Downloading: \"https://download.pytorch.org/models/mobilenet_v3_small-047dcff4.pth\" to /root/.cache/torch/hub/checkpoints/mobilenet_v3_small-047dcff4.pth\n"
          ]
        },
        {
          "output_type": "stream",
          "name": "stderr",
          "text": [
            "100%|██████████| 9.83M/9.83M [00:00<00:00, 90.0MB/s]\n"
          ]
        },
        {
          "output_type": "stream",
          "name": "stdout",
          "text": [
            "Model Architecture:\n",
            "MobileNetV3_Household(\n",
            "  (model): MobileNetV3(\n",
            "    (features): Sequential(\n",
            "      (0): Conv2dNormActivation(\n",
            "        (0): Conv2d(3, 16, kernel_size=(3, 3), stride=(2, 2), padding=(1, 1), bias=False)\n",
            "        (1): BatchNorm2d(16, eps=0.001, momentum=0.01, affine=True, track_running_stats=True)\n",
            "        (2): Hardswish()\n",
            "      )\n",
            "      (1): InvertedResidual(\n",
            "        (block): Sequential(\n",
            "          (0): Conv2dNormActivation(\n",
            "            (0): Conv2d(16, 16, kernel_size=(3, 3), stride=(2, 2), padding=(1, 1), groups=16, bias=False)\n",
            "            (1): BatchNorm2d(16, eps=0.001, momentum=0.01, affine=True, track_running_stats=True)\n",
            "            (2): ReLU(inplace=True)\n",
            "          )\n",
            "          (1): SqueezeExcitation(\n",
            "            (avgpool): AdaptiveAvgPool2d(output_size=1)\n",
            "            (fc1): Conv2d(16, 8, kernel_size=(1, 1), stride=(1, 1))\n",
            "            (fc2): Conv2d(8, 16, kernel_size=(1, 1), stride=(1, 1))\n",
            "            (activation): ReLU()\n",
            "            (scale_activation): Hardsigmoid()\n",
            "          )\n",
            "          (2): Conv2dNormActivation(\n",
            "            (0): Conv2d(16, 16, kernel_size=(1, 1), stride=(1, 1), bias=False)\n",
            "            (1): BatchNorm2d(16, eps=0.001, momentum=0.01, affine=True, track_running_stats=True)\n",
            "          )\n",
            "        )\n",
            "      )\n",
            "      (2): InvertedResidual(\n",
            "        (block): Sequential(\n",
            "          (0): Conv2dNormActivation(\n",
            "            (0): Conv2d(16, 72, kernel_size=(1, 1), stride=(1, 1), bias=False)\n",
            "            (1): BatchNorm2d(72, eps=0.001, momentum=0.01, affine=True, track_running_stats=True)\n",
            "            (2): ReLU(inplace=True)\n",
            "          )\n",
            "          (1): Conv2dNormActivation(\n",
            "            (0): Conv2d(72, 72, kernel_size=(3, 3), stride=(2, 2), padding=(1, 1), groups=72, bias=False)\n",
            "            (1): BatchNorm2d(72, eps=0.001, momentum=0.01, affine=True, track_running_stats=True)\n",
            "            (2): ReLU(inplace=True)\n",
            "          )\n",
            "          (2): Conv2dNormActivation(\n",
            "            (0): Conv2d(72, 24, kernel_size=(1, 1), stride=(1, 1), bias=False)\n",
            "            (1): BatchNorm2d(24, eps=0.001, momentum=0.01, affine=True, track_running_stats=True)\n",
            "          )\n",
            "        )\n",
            "      )\n",
            "      (3): InvertedResidual(\n",
            "        (block): Sequential(\n",
            "          (0): Conv2dNormActivation(\n",
            "            (0): Conv2d(24, 88, kernel_size=(1, 1), stride=(1, 1), bias=False)\n",
            "            (1): BatchNorm2d(88, eps=0.001, momentum=0.01, affine=True, track_running_stats=True)\n",
            "            (2): ReLU(inplace=True)\n",
            "          )\n",
            "          (1): Conv2dNormActivation(\n",
            "            (0): Conv2d(88, 88, kernel_size=(3, 3), stride=(1, 1), padding=(1, 1), groups=88, bias=False)\n",
            "            (1): BatchNorm2d(88, eps=0.001, momentum=0.01, affine=True, track_running_stats=True)\n",
            "            (2): ReLU(inplace=True)\n",
            "          )\n",
            "          (2): Conv2dNormActivation(\n",
            "            (0): Conv2d(88, 24, kernel_size=(1, 1), stride=(1, 1), bias=False)\n",
            "            (1): BatchNorm2d(24, eps=0.001, momentum=0.01, affine=True, track_running_stats=True)\n",
            "          )\n",
            "        )\n",
            "      )\n",
            "      (4): InvertedResidual(\n",
            "        (block): Sequential(\n",
            "          (0): Conv2dNormActivation(\n",
            "            (0): Conv2d(24, 96, kernel_size=(1, 1), stride=(1, 1), bias=False)\n",
            "            (1): BatchNorm2d(96, eps=0.001, momentum=0.01, affine=True, track_running_stats=True)\n",
            "            (2): Hardswish()\n",
            "          )\n",
            "          (1): Conv2dNormActivation(\n",
            "            (0): Conv2d(96, 96, kernel_size=(5, 5), stride=(2, 2), padding=(2, 2), groups=96, bias=False)\n",
            "            (1): BatchNorm2d(96, eps=0.001, momentum=0.01, affine=True, track_running_stats=True)\n",
            "            (2): Hardswish()\n",
            "          )\n",
            "          (2): SqueezeExcitation(\n",
            "            (avgpool): AdaptiveAvgPool2d(output_size=1)\n",
            "            (fc1): Conv2d(96, 24, kernel_size=(1, 1), stride=(1, 1))\n",
            "            (fc2): Conv2d(24, 96, kernel_size=(1, 1), stride=(1, 1))\n",
            "            (activation): ReLU()\n",
            "            (scale_activation): Hardsigmoid()\n",
            "          )\n",
            "          (3): Conv2dNormActivation(\n",
            "            (0): Conv2d(96, 40, kernel_size=(1, 1), stride=(1, 1), bias=False)\n",
            "            (1): BatchNorm2d(40, eps=0.001, momentum=0.01, affine=True, track_running_stats=True)\n",
            "          )\n",
            "        )\n",
            "      )\n",
            "      (5): InvertedResidual(\n",
            "        (block): Sequential(\n",
            "          (0): Conv2dNormActivation(\n",
            "            (0): Conv2d(40, 240, kernel_size=(1, 1), stride=(1, 1), bias=False)\n",
            "            (1): BatchNorm2d(240, eps=0.001, momentum=0.01, affine=True, track_running_stats=True)\n",
            "            (2): Hardswish()\n",
            "          )\n",
            "          (1): Conv2dNormActivation(\n",
            "            (0): Conv2d(240, 240, kernel_size=(5, 5), stride=(1, 1), padding=(2, 2), groups=240, bias=False)\n",
            "            (1): BatchNorm2d(240, eps=0.001, momentum=0.01, affine=True, track_running_stats=True)\n",
            "            (2): Hardswish()\n",
            "          )\n",
            "          (2): SqueezeExcitation(\n",
            "            (avgpool): AdaptiveAvgPool2d(output_size=1)\n",
            "            (fc1): Conv2d(240, 64, kernel_size=(1, 1), stride=(1, 1))\n",
            "            (fc2): Conv2d(64, 240, kernel_size=(1, 1), stride=(1, 1))\n",
            "            (activation): ReLU()\n",
            "            (scale_activation): Hardsigmoid()\n",
            "          )\n",
            "          (3): Conv2dNormActivation(\n",
            "            (0): Conv2d(240, 40, kernel_size=(1, 1), stride=(1, 1), bias=False)\n",
            "            (1): BatchNorm2d(40, eps=0.001, momentum=0.01, affine=True, track_running_stats=True)\n",
            "          )\n",
            "        )\n",
            "      )\n",
            "      (6): InvertedResidual(\n",
            "        (block): Sequential(\n",
            "          (0): Conv2dNormActivation(\n",
            "            (0): Conv2d(40, 240, kernel_size=(1, 1), stride=(1, 1), bias=False)\n",
            "            (1): BatchNorm2d(240, eps=0.001, momentum=0.01, affine=True, track_running_stats=True)\n",
            "            (2): Hardswish()\n",
            "          )\n",
            "          (1): Conv2dNormActivation(\n",
            "            (0): Conv2d(240, 240, kernel_size=(5, 5), stride=(1, 1), padding=(2, 2), groups=240, bias=False)\n",
            "            (1): BatchNorm2d(240, eps=0.001, momentum=0.01, affine=True, track_running_stats=True)\n",
            "            (2): Hardswish()\n",
            "          )\n",
            "          (2): SqueezeExcitation(\n",
            "            (avgpool): AdaptiveAvgPool2d(output_size=1)\n",
            "            (fc1): Conv2d(240, 64, kernel_size=(1, 1), stride=(1, 1))\n",
            "            (fc2): Conv2d(64, 240, kernel_size=(1, 1), stride=(1, 1))\n",
            "            (activation): ReLU()\n",
            "            (scale_activation): Hardsigmoid()\n",
            "          )\n",
            "          (3): Conv2dNormActivation(\n",
            "            (0): Conv2d(240, 40, kernel_size=(1, 1), stride=(1, 1), bias=False)\n",
            "            (1): BatchNorm2d(40, eps=0.001, momentum=0.01, affine=True, track_running_stats=True)\n",
            "          )\n",
            "        )\n",
            "      )\n",
            "      (7): InvertedResidual(\n",
            "        (block): Sequential(\n",
            "          (0): Conv2dNormActivation(\n",
            "            (0): Conv2d(40, 120, kernel_size=(1, 1), stride=(1, 1), bias=False)\n",
            "            (1): BatchNorm2d(120, eps=0.001, momentum=0.01, affine=True, track_running_stats=True)\n",
            "            (2): Hardswish()\n",
            "          )\n",
            "          (1): Conv2dNormActivation(\n",
            "            (0): Conv2d(120, 120, kernel_size=(5, 5), stride=(1, 1), padding=(2, 2), groups=120, bias=False)\n",
            "            (1): BatchNorm2d(120, eps=0.001, momentum=0.01, affine=True, track_running_stats=True)\n",
            "            (2): Hardswish()\n",
            "          )\n",
            "          (2): SqueezeExcitation(\n",
            "            (avgpool): AdaptiveAvgPool2d(output_size=1)\n",
            "            (fc1): Conv2d(120, 32, kernel_size=(1, 1), stride=(1, 1))\n",
            "            (fc2): Conv2d(32, 120, kernel_size=(1, 1), stride=(1, 1))\n",
            "            (activation): ReLU()\n",
            "            (scale_activation): Hardsigmoid()\n",
            "          )\n",
            "          (3): Conv2dNormActivation(\n",
            "            (0): Conv2d(120, 48, kernel_size=(1, 1), stride=(1, 1), bias=False)\n",
            "            (1): BatchNorm2d(48, eps=0.001, momentum=0.01, affine=True, track_running_stats=True)\n",
            "          )\n",
            "        )\n",
            "      )\n",
            "      (8): InvertedResidual(\n",
            "        (block): Sequential(\n",
            "          (0): Conv2dNormActivation(\n",
            "            (0): Conv2d(48, 144, kernel_size=(1, 1), stride=(1, 1), bias=False)\n",
            "            (1): BatchNorm2d(144, eps=0.001, momentum=0.01, affine=True, track_running_stats=True)\n",
            "            (2): Hardswish()\n",
            "          )\n",
            "          (1): Conv2dNormActivation(\n",
            "            (0): Conv2d(144, 144, kernel_size=(5, 5), stride=(1, 1), padding=(2, 2), groups=144, bias=False)\n",
            "            (1): BatchNorm2d(144, eps=0.001, momentum=0.01, affine=True, track_running_stats=True)\n",
            "            (2): Hardswish()\n",
            "          )\n",
            "          (2): SqueezeExcitation(\n",
            "            (avgpool): AdaptiveAvgPool2d(output_size=1)\n",
            "            (fc1): Conv2d(144, 40, kernel_size=(1, 1), stride=(1, 1))\n",
            "            (fc2): Conv2d(40, 144, kernel_size=(1, 1), stride=(1, 1))\n",
            "            (activation): ReLU()\n",
            "            (scale_activation): Hardsigmoid()\n",
            "          )\n",
            "          (3): Conv2dNormActivation(\n",
            "            (0): Conv2d(144, 48, kernel_size=(1, 1), stride=(1, 1), bias=False)\n",
            "            (1): BatchNorm2d(48, eps=0.001, momentum=0.01, affine=True, track_running_stats=True)\n",
            "          )\n",
            "        )\n",
            "      )\n",
            "      (9): InvertedResidual(\n",
            "        (block): Sequential(\n",
            "          (0): Conv2dNormActivation(\n",
            "            (0): Conv2d(48, 288, kernel_size=(1, 1), stride=(1, 1), bias=False)\n",
            "            (1): BatchNorm2d(288, eps=0.001, momentum=0.01, affine=True, track_running_stats=True)\n",
            "            (2): Hardswish()\n",
            "          )\n",
            "          (1): Conv2dNormActivation(\n",
            "            (0): Conv2d(288, 288, kernel_size=(5, 5), stride=(2, 2), padding=(2, 2), groups=288, bias=False)\n",
            "            (1): BatchNorm2d(288, eps=0.001, momentum=0.01, affine=True, track_running_stats=True)\n",
            "            (2): Hardswish()\n",
            "          )\n",
            "          (2): SqueezeExcitation(\n",
            "            (avgpool): AdaptiveAvgPool2d(output_size=1)\n",
            "            (fc1): Conv2d(288, 72, kernel_size=(1, 1), stride=(1, 1))\n",
            "            (fc2): Conv2d(72, 288, kernel_size=(1, 1), stride=(1, 1))\n",
            "            (activation): ReLU()\n",
            "            (scale_activation): Hardsigmoid()\n",
            "          )\n",
            "          (3): Conv2dNormActivation(\n",
            "            (0): Conv2d(288, 96, kernel_size=(1, 1), stride=(1, 1), bias=False)\n",
            "            (1): BatchNorm2d(96, eps=0.001, momentum=0.01, affine=True, track_running_stats=True)\n",
            "          )\n",
            "        )\n",
            "      )\n",
            "      (10): InvertedResidual(\n",
            "        (block): Sequential(\n",
            "          (0): Conv2dNormActivation(\n",
            "            (0): Conv2d(96, 576, kernel_size=(1, 1), stride=(1, 1), bias=False)\n",
            "            (1): BatchNorm2d(576, eps=0.001, momentum=0.01, affine=True, track_running_stats=True)\n",
            "            (2): Hardswish()\n",
            "          )\n",
            "          (1): Conv2dNormActivation(\n",
            "            (0): Conv2d(576, 576, kernel_size=(5, 5), stride=(1, 1), padding=(2, 2), groups=576, bias=False)\n",
            "            (1): BatchNorm2d(576, eps=0.001, momentum=0.01, affine=True, track_running_stats=True)\n",
            "            (2): Hardswish()\n",
            "          )\n",
            "          (2): SqueezeExcitation(\n",
            "            (avgpool): AdaptiveAvgPool2d(output_size=1)\n",
            "            (fc1): Conv2d(576, 144, kernel_size=(1, 1), stride=(1, 1))\n",
            "            (fc2): Conv2d(144, 576, kernel_size=(1, 1), stride=(1, 1))\n",
            "            (activation): ReLU()\n",
            "            (scale_activation): Hardsigmoid()\n",
            "          )\n",
            "          (3): Conv2dNormActivation(\n",
            "            (0): Conv2d(576, 96, kernel_size=(1, 1), stride=(1, 1), bias=False)\n",
            "            (1): BatchNorm2d(96, eps=0.001, momentum=0.01, affine=True, track_running_stats=True)\n",
            "          )\n",
            "        )\n",
            "      )\n",
            "      (11): InvertedResidual(\n",
            "        (block): Sequential(\n",
            "          (0): Conv2dNormActivation(\n",
            "            (0): Conv2d(96, 576, kernel_size=(1, 1), stride=(1, 1), bias=False)\n",
            "            (1): BatchNorm2d(576, eps=0.001, momentum=0.01, affine=True, track_running_stats=True)\n",
            "            (2): Hardswish()\n",
            "          )\n",
            "          (1): Conv2dNormActivation(\n",
            "            (0): Conv2d(576, 576, kernel_size=(5, 5), stride=(1, 1), padding=(2, 2), groups=576, bias=False)\n",
            "            (1): BatchNorm2d(576, eps=0.001, momentum=0.01, affine=True, track_running_stats=True)\n",
            "            (2): Hardswish()\n",
            "          )\n",
            "          (2): SqueezeExcitation(\n",
            "            (avgpool): AdaptiveAvgPool2d(output_size=1)\n",
            "            (fc1): Conv2d(576, 144, kernel_size=(1, 1), stride=(1, 1))\n",
            "            (fc2): Conv2d(144, 576, kernel_size=(1, 1), stride=(1, 1))\n",
            "            (activation): ReLU()\n",
            "            (scale_activation): Hardsigmoid()\n",
            "          )\n",
            "          (3): Conv2dNormActivation(\n",
            "            (0): Conv2d(576, 96, kernel_size=(1, 1), stride=(1, 1), bias=False)\n",
            "            (1): BatchNorm2d(96, eps=0.001, momentum=0.01, affine=True, track_running_stats=True)\n",
            "          )\n",
            "        )\n",
            "      )\n",
            "      (12): Conv2dNormActivation(\n",
            "        (0): Conv2d(96, 576, kernel_size=(1, 1), stride=(1, 1), bias=False)\n",
            "        (1): BatchNorm2d(576, eps=0.001, momentum=0.01, affine=True, track_running_stats=True)\n",
            "        (2): Hardswish()\n",
            "      )\n",
            "    )\n",
            "    (avgpool): AdaptiveAvgPool2d(output_size=1)\n",
            "    (classifier): Sequential(\n",
            "      (0): Linear(in_features=576, out_features=1024, bias=True)\n",
            "      (1): Hardswish()\n",
            "      (2): Dropout(p=0.2, inplace=True)\n",
            "      (3): Linear(in_features=1024, out_features=10, bias=True)\n",
            "    )\n",
            "  )\n",
            ")\n",
            "\n",
            "Total Parameters: 1,528,106\n"
          ]
        }
      ],
      "source": [
        "# Initialize model\n",
        "model = MobileNetV3_Household().to(device)\n",
        "print_model_summary(model)"
      ]
    },
    {
      "cell_type": "code",
      "execution_count": 15,
      "metadata": {
        "id": "lHtg9PUEJ5m1"
      },
      "outputs": [],
      "source": [
        "# Define training configuration\n",
        "num_epochs = 50\n",
        "criterion = nn.CrossEntropyLoss()\n",
        "optimizer = torch.optim.AdamW(\n",
        "    model.parameters(),\n",
        "    lr=0.001,  # Note that MobileNet is sensitive to high LRs\n",
        "    weight_decay=1e-4,\n",
        "    betas=(0.9, 0.999)\n",
        ")\n",
        "\n",
        "scheduler = torch.optim.lr_scheduler.OneCycleLR(\n",
        "    optimizer,\n",
        "    max_lr=0.005,  # Peak learning rate\n",
        "    steps_per_epoch=len(train_loader),\n",
        "    epochs=num_epochs,\n",
        "    pct_start=0.3,  # Spend 30% of training time warming up\n",
        "    div_factor=25,  # Initial LR is max_lr/25\n",
        "    final_div_factor=1000  # Final LR is max_lr/1000\n",
        ")\n",
        "\n",
        "training_config = {\n",
        "    'num_epochs': num_epochs,\n",
        "    'criterion': criterion,\n",
        "    'optimizer': optimizer,\n",
        "    'scheduler': scheduler,\n",
        "    'patience': 5,\n",
        "    'device': device\n",
        "}"
      ]
    },
    {
      "cell_type": "code",
      "execution_count": null,
      "metadata": {
        "id": "5_CZaGjhJ5m1",
        "outputId": "a7be865f-db3f-45dc-afed-75c7716ca09e",
        "colab": {
          "base_uri": "https://localhost:8080/"
        }
      },
      "outputs": [
        {
          "output_type": "stream",
          "name": "stdout",
          "text": [
            "Total parameters: 1,528,106\n",
            "Training with standard method for 50 epochs\n"
          ]
        },
        {
          "output_type": "stream",
          "name": "stderr",
          "text": [
            "Epoch 1/50 [Train]: 100%|██████████| 40/40 [00:07<00:00,  5.26it/s, loss=1.16, batch_acc=62.5, running_acc=52.8, lr=0.0002]\n",
            "Epoch 1/50 [Test]: 100%|██████████| 8/8 [00:00<00:00, 19.16it/s, loss=1.4, acc=64]\n"
          ]
        },
        {
          "output_type": "stream",
          "name": "stdout",
          "text": [
            "Epoch 1/50 - Train Loss: 1.5927, Train Acc: 52.76%, Test Loss: 1.0530, Test Acc: 64.00%, LR: 0.000200, Time: 8.03s\n",
            "New best model! Saving... (64.00%)\n",
            "Model saved to ../models/baseline_mobilenet/checkpoints/model.pth\n"
          ]
        },
        {
          "output_type": "stream",
          "name": "stderr",
          "text": [
            "Epoch 2/50 [Train]: 100%|██████████| 40/40 [00:04<00:00,  8.38it/s, loss=0.674, batch_acc=75, running_acc=74.1, lr=0.0002]\n",
            "Epoch 2/50 [Test]: 100%|██████████| 8/8 [00:00<00:00, 20.05it/s, loss=1.26, acc=73.3]\n"
          ]
        },
        {
          "output_type": "stream",
          "name": "stdout",
          "text": [
            "Epoch 2/50 - Train Loss: 0.7680, Train Acc: 74.08%, Test Loss: 0.7845, Test Acc: 73.30%, LR: 0.000200, Time: 5.18s\n",
            "New best model! Saving... (73.30%)\n",
            "Model saved to ../models/baseline_mobilenet/checkpoints/model.pth\n"
          ]
        },
        {
          "output_type": "stream",
          "name": "stderr",
          "text": [
            "Epoch 3/50 [Train]: 100%|██████████| 40/40 [00:05<00:00,  7.81it/s, loss=0.496, batch_acc=75, running_acc=81.8, lr=0.0002]\n",
            "Epoch 3/50 [Test]: 100%|██████████| 8/8 [00:00<00:00, 20.70it/s, loss=0.846, acc=78.9]\n"
          ]
        },
        {
          "output_type": "stream",
          "name": "stdout",
          "text": [
            "Epoch 3/50 - Train Loss: 0.5284, Train Acc: 81.80%, Test Loss: 0.6347, Test Acc: 78.90%, LR: 0.000200, Time: 5.52s\n",
            "New best model! Saving... (78.90%)\n",
            "Model saved to ../models/baseline_mobilenet/checkpoints/model.pth\n"
          ]
        },
        {
          "output_type": "stream",
          "name": "stderr",
          "text": [
            "Epoch 4/50 [Train]: 100%|██████████| 40/40 [00:04<00:00,  8.34it/s, loss=0.493, batch_acc=87.5, running_acc=86.3, lr=0.0002]\n",
            "Epoch 4/50 [Test]: 100%|██████████| 8/8 [00:00<00:00, 20.13it/s, loss=0.906, acc=79.9]\n"
          ]
        },
        {
          "output_type": "stream",
          "name": "stdout",
          "text": [
            "Epoch 4/50 - Train Loss: 0.3901, Train Acc: 86.34%, Test Loss: 0.5662, Test Acc: 79.90%, LR: 0.000201, Time: 5.21s\n",
            "New best model! Saving... (79.90%)\n",
            "Model saved to ../models/baseline_mobilenet/checkpoints/model.pth\n"
          ]
        },
        {
          "output_type": "stream",
          "name": "stderr",
          "text": [
            "Epoch 5/50 [Train]: 100%|██████████| 40/40 [00:05<00:00,  7.85it/s, loss=0.989, batch_acc=50, running_acc=89.8, lr=0.000201]\n",
            "Epoch 5/50 [Test]: 100%|██████████| 8/8 [00:00<00:00, 19.81it/s, loss=0.86, acc=80.7]\n"
          ]
        },
        {
          "output_type": "stream",
          "name": "stdout",
          "text": [
            "Epoch 5/50 - Train Loss: 0.3010, Train Acc: 89.80%, Test Loss: 0.5372, Test Acc: 80.70%, LR: 0.000201, Time: 5.51s\n",
            "New best model! Saving... (80.70%)\n",
            "Model saved to ../models/baseline_mobilenet/checkpoints/model.pth\n"
          ]
        },
        {
          "output_type": "stream",
          "name": "stderr",
          "text": [
            "Epoch 6/50 [Train]: 100%|██████████| 40/40 [00:04<00:00,  8.28it/s, loss=0.647, batch_acc=62.5, running_acc=91.6, lr=0.000201]\n",
            "Epoch 6/50 [Test]: 100%|██████████| 8/8 [00:00<00:00, 19.46it/s, loss=0.805, acc=82.6]\n"
          ]
        },
        {
          "output_type": "stream",
          "name": "stdout",
          "text": [
            "Epoch 6/50 - Train Loss: 0.2510, Train Acc: 91.58%, Test Loss: 0.5028, Test Acc: 82.60%, LR: 0.000201, Time: 5.25s\n",
            "New best model! Saving... (82.60%)\n",
            "Model saved to ../models/baseline_mobilenet/checkpoints/model.pth\n"
          ]
        },
        {
          "output_type": "stream",
          "name": "stderr",
          "text": [
            "Epoch 7/50 [Train]: 100%|██████████| 40/40 [00:04<00:00,  8.15it/s, loss=0.243, batch_acc=100, running_acc=92.6, lr=0.000201]\n",
            "Epoch 7/50 [Test]: 100%|██████████| 8/8 [00:00<00:00, 15.01it/s, loss=0.487, acc=83.3]\n"
          ]
        },
        {
          "output_type": "stream",
          "name": "stdout",
          "text": [
            "Epoch 7/50 - Train Loss: 0.2213, Train Acc: 92.56%, Test Loss: 0.4873, Test Acc: 83.30%, LR: 0.000202, Time: 5.46s\n",
            "New best model! Saving... (83.30%)\n",
            "Model saved to ../models/baseline_mobilenet/checkpoints/model.pth\n"
          ]
        },
        {
          "output_type": "stream",
          "name": "stderr",
          "text": [
            "Epoch 8/50 [Train]: 100%|██████████| 40/40 [00:05<00:00,  7.99it/s, loss=0.0239, batch_acc=100, running_acc=94.3, lr=0.000202]\n",
            "Epoch 8/50 [Test]: 100%|██████████| 8/8 [00:00<00:00, 20.43it/s, loss=0.681, acc=84]\n"
          ]
        },
        {
          "output_type": "stream",
          "name": "stdout",
          "text": [
            "Epoch 8/50 - Train Loss: 0.1739, Train Acc: 94.28%, Test Loss: 0.5106, Test Acc: 84.00%, LR: 0.000202, Time: 5.41s\n",
            "New best model! Saving... (84.00%)\n",
            "Model saved to ../models/baseline_mobilenet/checkpoints/model.pth\n"
          ]
        },
        {
          "output_type": "stream",
          "name": "stderr",
          "text": [
            "Epoch 9/50 [Train]: 100%|██████████| 40/40 [00:04<00:00,  8.15it/s, loss=0.15, batch_acc=87.5, running_acc=95.7, lr=0.000202]\n",
            "Epoch 9/50 [Test]: 100%|██████████| 8/8 [00:00<00:00, 19.69it/s, loss=0.678, acc=85.8]\n"
          ]
        },
        {
          "output_type": "stream",
          "name": "stdout",
          "text": [
            "Epoch 9/50 - Train Loss: 0.1394, Train Acc: 95.72%, Test Loss: 0.4240, Test Acc: 85.80%, LR: 0.000203, Time: 5.32s\n",
            "New best model! Saving... (85.80%)\n",
            "Model saved to ../models/baseline_mobilenet/checkpoints/model.pth\n"
          ]
        },
        {
          "output_type": "stream",
          "name": "stderr",
          "text": [
            "Epoch 10/50 [Train]: 100%|██████████| 40/40 [00:05<00:00,  7.52it/s, loss=0.659, batch_acc=87.5, running_acc=96.6, lr=0.000203]\n",
            "Epoch 10/50 [Test]: 100%|██████████| 8/8 [00:00<00:00, 18.61it/s, loss=0.676, acc=86.6]\n"
          ]
        },
        {
          "output_type": "stream",
          "name": "stdout",
          "text": [
            "Epoch 10/50 - Train Loss: 0.1082, Train Acc: 96.58%, Test Loss: 0.4224, Test Acc: 86.60%, LR: 0.000203, Time: 5.76s\n",
            "New best model! Saving... (86.60%)\n",
            "Model saved to ../models/baseline_mobilenet/checkpoints/model.pth\n"
          ]
        },
        {
          "output_type": "stream",
          "name": "stderr",
          "text": [
            "Epoch 11/50 [Train]: 100%|██████████| 40/40 [00:04<00:00,  8.12it/s, loss=0.721, batch_acc=87.5, running_acc=96.7, lr=0.000203]\n",
            "Epoch 11/50 [Test]: 100%|██████████| 8/8 [00:00<00:00, 19.93it/s, loss=0.731, acc=85.9]\n"
          ]
        },
        {
          "output_type": "stream",
          "name": "stdout",
          "text": [
            "Epoch 11/50 - Train Loss: 0.1041, Train Acc: 96.68%, Test Loss: 0.4568, Test Acc: 85.90%, LR: 0.000204, Time: 5.34s\n"
          ]
        },
        {
          "output_type": "stream",
          "name": "stderr",
          "text": [
            "Epoch 12/50 [Train]: 100%|██████████| 40/40 [00:05<00:00,  7.02it/s, loss=0.187, batch_acc=100, running_acc=96.1, lr=0.000204]\n",
            "Epoch 12/50 [Test]: 100%|██████████| 8/8 [00:00<00:00, 18.94it/s, loss=0.719, acc=87.4]\n"
          ]
        },
        {
          "output_type": "stream",
          "name": "stdout",
          "text": [
            "Epoch 12/50 - Train Loss: 0.1214, Train Acc: 96.08%, Test Loss: 0.4495, Test Acc: 87.40%, LR: 0.000205, Time: 6.13s\n",
            "New best model! Saving... (87.40%)\n",
            "Model saved to ../models/baseline_mobilenet/checkpoints/model.pth\n"
          ]
        },
        {
          "output_type": "stream",
          "name": "stderr",
          "text": [
            "Epoch 13/50 [Train]: 100%|██████████| 40/40 [00:04<00:00,  8.05it/s, loss=0.752, batch_acc=62.5, running_acc=96.9, lr=0.000205]\n",
            "Epoch 13/50 [Test]: 100%|██████████| 8/8 [00:00<00:00, 18.57it/s, loss=0.727, acc=87.8]\n"
          ]
        },
        {
          "output_type": "stream",
          "name": "stdout",
          "text": [
            "Epoch 13/50 - Train Loss: 0.0937, Train Acc: 96.92%, Test Loss: 0.4543, Test Acc: 87.80%, LR: 0.000206, Time: 5.41s\n",
            "New best model! Saving... (87.80%)\n",
            "Model saved to ../models/baseline_mobilenet/checkpoints/model.pth\n"
          ]
        },
        {
          "output_type": "stream",
          "name": "stderr",
          "text": [
            "\rEpoch 14/50 [Train]:   0%|          | 0/40 [00:00<?, ?it/s]"
          ]
        }
      ],
      "source": [
        "# Train model given the training_config\n",
        "training_stats, best_accuracy, best_epoch = train_model(\n",
        "    model,\n",
        "    train_loader,\n",
        "    test_loader,\n",
        "    training_config,\n",
        "    checkpoint_path=f\"{models_ckp_dir}/model.pth\",\n",
        ")\n",
        "\n",
        "# Save training statistics\n",
        "with open(f\"{results_dir}/training_stats.json\", 'w') as f:\n",
        "    json.dump(training_stats, f, indent=4)"
      ]
    },
    {
      "cell_type": "markdown",
      "metadata": {
        "id": "wl7Wsu50J5m1"
      },
      "source": [
        "### Step 4. Evaluate the baseline model"
      ]
    },
    {
      "cell_type": "code",
      "execution_count": null,
      "metadata": {
        "id": "-5lPQI6pJ5m1"
      },
      "outputs": [],
      "source": [
        "# Load the best model\n",
        "model = load_model(f\"{models_ckp_dir}/model.pth\", device)\n",
        "\n",
        "# Define evaluation input and output variables\n",
        "class_names = test_loader.dataset.classes\n",
        "n_classes = len(class_names)\n",
        "input_size = get_input_size(\"CIFAR\")\n",
        "\n",
        "# Calculate and save model performance on all metrics\n",
        "print(\"Evaluating model's performance on all metrics...\")\n",
        "baseline_metrics = evaluate_model_metrics(model, test_loader, device, n_classes, class_names, input_size, save_path=f\"{results_dir}/metrics.json\")\n",
        "\n",
        "# Calculate, plot, and save confusion matrix\n",
        "confusion_matrix = calculate_confusion_matrix(model, test_loader, device, n_classes)\n",
        "_ = plot_confusion_matrix(confusion_matrix, class_names, f\"{results_dir}/confusion_matrix.png\")\n",
        "\n",
        "# Plot and save training history\n",
        "_ = plot_training_history(training_stats, f\"{results_dir}/training_history.png\")\n",
        "\n",
        "# Plot weight distribution (can help guide optimization strategies)\n",
        "_ = plot_weight_distribution(model, output_path=f\"{results_dir}/weight_distribution.png\")"
      ]
    },
    {
      "cell_type": "markdown",
      "metadata": {
        "id": "-R6-pCCyJ5m1"
      },
      "source": [
        "### Step 5. Identify potential optimization approaches\n",
        "Based on our baseline analysis, let's identify promising optimization approaches."
      ]
    },
    {
      "cell_type": "code",
      "execution_count": null,
      "metadata": {
        "id": "T2yHSHrSJ5m1"
      },
      "outputs": [],
      "source": [
        "print(f\"\\nAll artifacts saved to:\")\n",
        "print(f\" - Model: {models_ckp_dir}/model.pth\")\n",
        "print(f\" - Metrics: {results_dir}/metrics.json\")\n",
        "print(f\" - Confusion Matrix: {results_dir}/confusion_matrix.png\")\n",
        "print(f\" - Training History: {results_dir}/training_history.png\")\n",
        "print(f\" - Training Stats: {results_dir}/training_stats.json\")\n",
        "print(f\" - Weight Distribution: {results_dir}/weight_distribution.png\")"
      ]
    },
    {
      "cell_type": "code",
      "execution_count": null,
      "metadata": {
        "id": "l_ajXIPbJ5m2"
      },
      "outputs": [],
      "source": [
        "# Calculate target metrics based on CTO requirements\n",
        "target_model_size = baseline_metrics['size']['model_size_mb'] * (1 - TARGET_MODEL_COMPRESSION)\n",
        "target_inference_time_cpu = baseline_metrics['timing']['cpu']['avg_time_ms'] * (1 - TARGET_INFERENCE_SPEEDUP)\n",
        "if torch.cuda.is_available():\n",
        "    target_inference_time_gpu = baseline_metrics['timing']['cuda']['avg_time_ms'] * (1 - TARGET_INFERENCE_SPEEDUP)\n",
        "min_acceptable_accuracy = baseline_metrics['accuracy']['top1_acc'] * (1 - MAX_ALLOWED_ACCURACY_DROP)\n",
        "\n",
        "print(\"Optimization Targets:\")\n",
        "print(f\"Target Model Size: {baseline_metrics['size']['model_size_mb']:.2f} --> {target_model_size:.2f} MB ({TARGET_MODEL_COMPRESSION*100}% reduction)\")\n",
        "print(f\"Target Inference Time (CPU): {baseline_metrics['timing']['cpu']['avg_time_ms']:.2f} --> {target_inference_time_cpu:.2f} ms ({TARGET_INFERENCE_SPEEDUP*100}% reduction)\")\n",
        "if torch.cuda.is_available():\n",
        "    print(f\"Target Inference Time (GPU): {baseline_metrics['timing']['cuda']['avg_time_ms']:.2f} --> {target_inference_time_gpu:.2f} ms ({TARGET_INFERENCE_SPEEDUP*100}% reduction)\")\n",
        "print(f\"Minimum Acceptable Accuracy: {baseline_metrics['accuracy']['top1_acc']:.2f} --> {min_acceptable_accuracy:.2f} (within {MAX_ALLOWED_ACCURACY_DROP*100}% of baseline)\")"
      ]
    },
    {
      "cell_type": "markdown",
      "metadata": {
        "id": "h2ZaD5S8J5m2"
      },
      "source": [
        "---------\n",
        "\n",
        "**TODO: Analyze the baseline results and select appropriate compression techniques**\n",
        "\n",
        "Now that you've established the baseline performance metrics for the UdaciSense object recognition model, complete an analysis that explores the optimization potential for this specific model architecture.\n",
        "\n",
        "Consider these guiding questions:\n",
        "- What is the baseline performance we need to optimize from?\n",
        "- What characteristics of MobileNetV3 affect its optimization potential?\n",
        "- Which compression techniques are most promising for this architecture and why?\n",
        "- What trade-offs do you anticipate between size, speed, and accuracy?\n",
        "- How might different techniques complement each other in a multi-stage approach?\n",
        "\n",
        "Provide a well-reasoned analysis that includes recommendations for at least two specific compression techniques to implement in the next notebook."
      ]
    },
    {
      "cell_type": "markdown",
      "metadata": {
        "id": "vKpaAdVrJ5m2"
      },
      "source": [
        "# Optimization Analysis for UdaciSense Computer Vision Model\n",
        "\n",
        "*(Replace this with your analysis)*"
      ]
    },
    {
      "cell_type": "markdown",
      "metadata": {
        "id": "7EcnhqJZJ5m2"
      },
      "source": [
        "> 🚀 **Next Step:**\n",
        "> Experiment with the compression techniques you've chosen in notebook `02_compression.ipynb`  "
      ]
    },
    {
      "cell_type": "code",
      "source": [],
      "metadata": {
        "id": "d-ssTVs7RzNN"
      },
      "execution_count": null,
      "outputs": []
    }
  ],
  "metadata": {
    "accelerator": "GPU",
    "colab": {
      "gpuType": "T4",
      "machine_shape": "hm",
      "provenance": []
    },
    "kernelspec": {
      "display_name": "Python 3",
      "name": "python3"
    },
    "language_info": {
      "name": "python"
    }
  },
  "nbformat": 4,
  "nbformat_minor": 0
}